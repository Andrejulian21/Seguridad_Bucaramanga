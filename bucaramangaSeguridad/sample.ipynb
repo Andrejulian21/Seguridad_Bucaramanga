{
 "cells": [
  {
   "metadata": {},
   "cell_type": "markdown",
   "source": "LIBRERIAS A USAR",
   "id": "753caad9e0cba243"
  },
  {
   "metadata": {
    "ExecuteTime": {
     "end_time": "2024-08-24T22:46:35.876771Z",
     "start_time": "2024-08-24T22:46:35.872592Z"
    }
   },
   "cell_type": "code",
   "source": [
    "\n",
    "# Pandas para manejo de datos\n",
    "import pandas as pd\n",
    "\n",
    "# Request para hacer peticiones HTTP\n",
    "import requests"
   ],
   "id": "fbc121e30a2defb3",
   "outputs": [],
   "execution_count": 6
  },
  {
   "metadata": {},
   "cell_type": "markdown",
   "source": "CARGAR DATOS",
   "id": "39ec04f42db76971"
  },
  {
   "metadata": {
    "ExecuteTime": {
     "end_time": "2024-08-24T22:47:41.414482Z",
     "start_time": "2024-08-24T22:47:40.579999Z"
    }
   },
   "cell_type": "code",
   "source": [
    "#API de datos abiertos de Colombia\n",
    "url = \"https://www.datos.gov.co/resource/75fz-q98y.json\"\n",
    "\n",
    "# Realizar la petición HTTP\n",
    "response = requests.get(url)\n",
    "\n",
    "# Verificar si la petición fue exitosa\n",
    "if response.status_code == 200:\n",
    "\n",
    "    # Convertir la respuesta en un DataFrame de Pandas\n",
    "    data = response.json()\n",
    "    df = pd.DataFrame(data)\n",
    "\n",
    "else:\n",
    "    print(\"Error al obtener los datos: \", response.status_code)"
   ],
   "id": "b531bdc199f83042",
   "outputs": [],
   "execution_count": 8
  },
  {
   "metadata": {},
   "cell_type": "markdown",
   "source": "EXPLORAR DATOS",
   "id": "911ba4428932a75e"
  },
  {
   "metadata": {
    "ExecuteTime": {
     "end_time": "2024-08-24T22:51:12.616922Z",
     "start_time": "2024-08-24T22:51:12.608404Z"
    }
   },
   "cell_type": "code",
   "source": "df.info()\n",
   "id": "dd49ac42d01dc35b",
   "outputs": [
    {
     "name": "stdout",
     "output_type": "stream",
     "text": [
      "<class 'pandas.core.frame.DataFrame'>\n",
      "RangeIndex: 1000 entries, 0 to 999\n",
      "Data columns (total 19 columns):\n",
      " #   Column                  Non-Null Count  Dtype \n",
      "---  ------                  --------------  ----- \n",
      " 0   orden                   1000 non-null   object\n",
      " 1   armas_medios            1000 non-null   object\n",
      " 2   barrios_hecho           1000 non-null   object\n",
      " 3   latitud                 1000 non-null   object\n",
      " 4   longitud                1000 non-null   object\n",
      " 5   zona                    1000 non-null   object\n",
      " 6   nom_comuna              1000 non-null   object\n",
      " 7   ano                     1000 non-null   object\n",
      " 8   mes                     1000 non-null   object\n",
      " 9   dia                     1000 non-null   object\n",
      " 10  dia_semana              1000 non-null   object\n",
      " 11  descripcion_conducta    1000 non-null   object\n",
      " 12  conducta                1000 non-null   object\n",
      " 13  clasificaciones_delito  1000 non-null   object\n",
      " 14  curso_de_vida           1000 non-null   object\n",
      " 15  estado_civil_persona    1000 non-null   object\n",
      " 16  genero                  1000 non-null   object\n",
      " 17  movil_agresor           1000 non-null   object\n",
      " 18  movil_victima           1000 non-null   object\n",
      "dtypes: object(19)\n",
      "memory usage: 148.6+ KB\n"
     ]
    }
   ],
   "execution_count": 10
  }
 ],
 "metadata": {
  "kernelspec": {
   "display_name": "Python 3",
   "language": "python",
   "name": "python3"
  },
  "language_info": {
   "codemirror_mode": {
    "name": "ipython",
    "version": 2
   },
   "file_extension": ".py",
   "mimetype": "text/x-python",
   "name": "python",
   "nbconvert_exporter": "python",
   "pygments_lexer": "ipython2",
   "version": "2.7.6"
  }
 },
 "nbformat": 4,
 "nbformat_minor": 5
}
